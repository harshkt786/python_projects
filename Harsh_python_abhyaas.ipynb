{
  "nbformat": 4,
  "nbformat_minor": 0,
  "metadata": {
    "colab": {
      "name": "Harsh_python_abhyaas.ipynb",
      "version": "0.3.2",
      "provenance": [],
      "collapsed_sections": [],
      "toc_visible": true,
      "include_colab_link": true
    },
    "kernelspec": {
      "name": "python3",
      "display_name": "Python 3"
    }
  },
  "cells": [
    {
      "cell_type": "markdown",
      "metadata": {
        "id": "view-in-github",
        "colab_type": "text"
      },
      "source": [
        "<a href=\"https://colab.research.google.com/github/harshkt786/python_projects/blob/master/Harsh_python_abhyaas.ipynb\" target=\"_parent\"><img src=\"https://colab.research.google.com/assets/colab-badge.svg\" alt=\"Open In Colab\"/></a>"
      ]
    },
    {
      "metadata": {
        "id": "b8B-RipTfoPw",
        "colab_type": "code",
        "outputId": "37fc03b8-a50e-4bce-90b9-f313d76677d6",
        "colab": {
          "base_uri": "https://localhost:8080/",
          "height": 68
        }
      },
      "cell_type": "code",
      "source": [
        "name = input(\"What is your name? \");\n",
        "color = input(\"Whats your fav color? \");\n",
        "\n",
        "print (name + ' likes ' + color);   # Getting input from the user"
      ],
      "execution_count": 0,
      "outputs": [
        {
          "output_type": "stream",
          "text": [
            "What is your name? Harsh Tiwari\n",
            "Whats your fav color? Crayon Pink\n",
            "Harsh Tiwari likes Crayon Pink\n"
          ],
          "name": "stdout"
        }
      ]
    },
    {
      "metadata": {
        "id": "jWlsDQpyf_eC",
        "colab_type": "code",
        "outputId": "90b84326-a1e4-4c54-99c8-37c56e0f40cd",
        "colab": {
          "base_uri": "https://localhost:8080/",
          "height": 51
        }
      },
      "cell_type": "code",
      "source": [
        "import datetime;\n",
        "name = int(input(\"What is your Year of Birth? \"));\n",
        "\n",
        "now = datetime.datetime.now();\n",
        "current_year = now.year;\n",
        "name = str(current_year - name);    # type cast\n",
        "print ('Your age is ' + name);\n",
        "\n"
      ],
      "execution_count": 0,
      "outputs": [
        {
          "output_type": "stream",
          "text": [
            "What is your Year of Birth? 1992\n",
            "Your age is 27\n"
          ],
          "name": "stdout"
        }
      ]
    },
    {
      "metadata": {
        "id": "ZbR14_yKke7s",
        "colab_type": "code",
        "outputId": "8853beee-344a-49cc-a144-17532e9091e4",
        "colab": {
          "base_uri": "https://localhost:8080/",
          "height": 51
        }
      },
      "cell_type": "code",
      "source": [
        "weight_in_pounds = input(\"What is your weight in pounds? \");\n",
        "weight_in_kg = int(weight_in_pounds)*0.45359237;\n",
        "print(\"Your weight in kolograms is \" + str(weight_in_kg));   # Type cast"
      ],
      "execution_count": 0,
      "outputs": [
        {
          "output_type": "stream",
          "text": [
            "What is your weight in pounds? 456\n",
            "Your weight in kolograms is 206.83812072\n"
          ],
          "name": "stdout"
        }
      ]
    },
    {
      "metadata": {
        "id": "ACCuj8b9lsxo",
        "colab_type": "code",
        "outputId": "6b9282df-06a2-438e-8f95-a2607ce4b4b8",
        "colab": {
          "base_uri": "https://localhost:8080/",
          "height": 130
        }
      },
      "cell_type": "code",
      "source": [
        "name = input(\"What is your name? \");\n",
        "color = input(\"Whats your fav color? \");\n",
        "\n",
        "print (f'{name} [likes] {color}');  # Formatted Strings"
      ],
      "execution_count": 0,
      "outputs": [
        {
          "output_type": "error",
          "ename": "SyntaxError",
          "evalue": "ignored",
          "traceback": [
            "\u001b[0;36m  File \u001b[0;32m\"<ipython-input-19-3976d01ad0a0>\"\u001b[0;36m, line \u001b[0;32m4\u001b[0m\n\u001b[0;31m    print (f'{name} [likes] {color}');  // Formatted Strings\u001b[0m\n\u001b[0m                                         ^\u001b[0m\n\u001b[0;31mSyntaxError\u001b[0m\u001b[0;31m:\u001b[0m invalid syntax\n"
          ]
        }
      ]
    },
    {
      "metadata": {
        "id": "1qQCcdgkoL7_",
        "colab_type": "code",
        "outputId": "0f55f288-7cb4-48a5-b337-9f5c1ba17764",
        "colab": {
          "base_uri": "https://localhost:8080/",
          "height": 103
        }
      },
      "cell_type": "code",
      "source": [
        "name = 'My name is Harsh and not ANthony Gonzalvis'\n",
        "\n",
        "print('Harsh' in name)\n",
        "print(name.find('a'));\n",
        "print(name.find('Harsh'));\n",
        "print(name.replace('Harsh','Harsh Tiwari'));          # String useful functions\n",
        "print(name.replace('o','p'));\n",
        "\n"
      ],
      "execution_count": 0,
      "outputs": [
        {
          "output_type": "stream",
          "text": [
            "True\n",
            "4\n",
            "11\n",
            "My name is Harsh Tiwari and not ANthony Gonzalvis\n",
            "My name is Harsh and npt ANthpny Gpnzalvis\n"
          ],
          "name": "stdout"
        }
      ]
    },
    {
      "metadata": {
        "id": "A188jPEyrDhi",
        "colab_type": "code",
        "outputId": "8043f50f-9183-4954-93a0-fe7c8b175b76",
        "colab": {
          "base_uri": "https://localhost:8080/",
          "height": 120
        }
      },
      "cell_type": "code",
      "source": [
        "print(10/3);     # floating value of the division\n",
        "print(10 // 3);   # integer value of the division\n",
        "print(10 % 3);    # remainder\n",
        "print(10 ** 3);\n",
        "\n",
        "x=10;\n",
        "x=x+3;  # incrementing\n",
        "print(x);\n",
        "\n",
        "x=10;\n",
        "x+=3;        # Augmented assignment operator\n",
        "print(x);\n"
      ],
      "execution_count": 0,
      "outputs": [
        {
          "output_type": "stream",
          "text": [
            "3.3333333333333335\n",
            "3\n",
            "1\n",
            "1000\n",
            "13\n",
            "13\n"
          ],
          "name": "stdout"
        }
      ]
    },
    {
      "metadata": {
        "id": "3FPFqCmAtfxm",
        "colab_type": "code",
        "outputId": "a1549e15-79a9-40ad-c7e2-e3c3c708e24f",
        "colab": {
          "base_uri": "https://localhost:8080/",
          "height": 34
        }
      },
      "cell_type": "code",
      "source": [
        "x= (10+4) * 5 ** 2 - 4\n",
        "print(x)   # operator precedence concept : parenthesis > exponent ** > divide > multiply or  > add > subtract"
      ],
      "execution_count": 0,
      "outputs": [
        {
          "output_type": "stream",
          "text": [
            "346\n"
          ],
          "name": "stdout"
        }
      ]
    },
    {
      "metadata": {
        "id": "yNiZNbNVvN2u",
        "colab_type": "code",
        "outputId": "38ff4d9d-3404-4948-d187-f1669c0495e7",
        "colab": {
          "base_uri": "https://localhost:8080/",
          "height": 86
        }
      },
      "cell_type": "code",
      "source": [
        "x=3.9;y=-3.9;z=3.5;p=3.2\n",
        "print(round(p));\n",
        "print(round(z));   # abs returns positive value alvails only removes -ve sign if it is there\n",
        "print(round(x));   # round function rounds off the floating values to the interger value.\n",
        "print(abs(y));"
      ],
      "execution_count": 0,
      "outputs": [
        {
          "output_type": "stream",
          "text": [
            "3\n",
            "4\n",
            "4\n",
            "3.9\n"
          ],
          "name": "stdout"
        }
      ]
    },
    {
      "metadata": {
        "id": "FedLPqZ4wQhl",
        "colab_type": "code",
        "outputId": "f607889d-8095-4eea-e250-4e4b93bd3c4b",
        "colab": {
          "base_uri": "https://localhost:8080/",
          "height": 51
        }
      },
      "cell_type": "code",
      "source": [
        " import math\n",
        " good_credit = input(\"Do you have good credit 'Yes / No' \")\n",
        " good_credit = good_credit.lower()\n",
        "\n",
        " if good_credit == \"yes\":\n",
        "    down_payment = 1000000*0.1\n",
        " else:\n",
        "    down_payment = 1000000*0.2                       # if-else statement ; you can also use elif\n",
        " \n",
        "print(f\"Your Downpayment is {down_payment}\")"
      ],
      "execution_count": 0,
      "outputs": [
        {
          "output_type": "stream",
          "text": [
            "Do you have good credit 'Yes / No' nO\n",
            "Your Downpayment is 200000.0\n"
          ],
          "name": "stdout"
        }
      ]
    },
    {
      "metadata": {
        "id": "FI-UYGCLzuDQ",
        "colab_type": "code",
        "colab": {
          "base_uri": "https://localhost:8080/",
          "height": 68
        },
        "outputId": "c2ec7042-1f09-42ae-e9d3-4b6cc1ccbc5f"
      },
      "cell_type": "code",
      "source": [
        "import math\n",
        "good_credit = input(\"Do you have good credit 'Yes / No' \")\n",
        "good_credit = good_credit.lower()\n",
        "high_income = input(\"Do you have high income 'Yes / No' \")\n",
        "good_credit = good_credit.lower()\n",
        "\n",
        "if good_credit == \"yes\" and high_income == \"yes\":\n",
        "    print(\"You are eligible for loan!\")\n",
        "else:\n",
        "    print(\"You are not eligible for loan!\")                      # if-else statement logical operator\n",
        " \n"
      ],
      "execution_count": 4,
      "outputs": [
        {
          "output_type": "stream",
          "text": [
            "Do you have good credit 'Yes / No' Yes\n",
            "Do you have high income 'Yes / No' NO\n",
            "You are not eligible for loan!\n"
          ],
          "name": "stdout"
        }
      ]
    },
    {
      "metadata": {
        "id": "lHb8xX5Nzi5i",
        "colab_type": "code",
        "colab": {
          "base_uri": "https://localhost:8080/",
          "height": 206
        },
        "outputId": "a5ab57b8-6fdd-4280-b0b2-7f156928af17"
      },
      "cell_type": "code",
      "source": [
        "while True:\n",
        "  user_input = input(\"> \")\n",
        "  user_input = user_input.lower()\n",
        "  if user_input==\"help\":\n",
        "    print(''' Start - to start the car.\n",
        "          Stop - Stop the car.\n",
        "          Quit - Quit the game.''')\n",
        "  elif user_input==\"start\":\n",
        "    print(\"Car started and going good!!!!\")\n",
        "  elif user_input==\"stop\":\n",
        "    print(\"Car Stopped safely!!!!\")\n",
        "  elif user_input==\"quit\":\n",
        "      print(\"Thank you for playing!!!!\")\n",
        "      break\n",
        "  else:\n",
        "    print('''Wrong input, please enter any of the following: \n",
        "    Start - to start the car.\n",
        "    Stop - Stop the car.\n",
        "    Quit - Quit the game.''')\n",
        "      \n",
        "      \n",
        " \n",
        "\n",
        "  \n",
        "    \n",
        "    \n"
      ],
      "execution_count": 10,
      "outputs": [
        {
          "output_type": "stream",
          "text": [
            "> start\n",
            "Car started and going good!!!!\n",
            "> stop'\n",
            "Wrong input, please enter any of the following: \n",
            "    Start - to start the car.\n",
            "    Stop - Stop the car.\n",
            "    Quit - Quit the game.\n",
            "> stop\n",
            "Car Stopped safely!!!!\n",
            "> quit\n",
            "Thank you for playing!!!!\n"
          ],
          "name": "stdout"
        }
      ]
    },
    {
      "metadata": {
        "id": "42S7QVGLfxcI",
        "colab_type": "code",
        "colab": {
          "base_uri": "https://localhost:8080/",
          "height": 51
        },
        "outputId": "97ffcb25-b1f2-48da-bc70-c6166f77fdb5"
      },
      "cell_type": "code",
      "source": [
        "right_guess = \"9\"\n",
        "guess = 0\n",
        "\n",
        "while guess<3:\n",
        "  user_guess = input(\"Please guess: \")\n",
        "  if right_guess==user_guess:\n",
        "    print(\"You won!!!!\")\n",
        "    break\n",
        "  else:\n",
        "    print(\"Wrong guess, please guess again\")                      # You can use else with while loop as well\n",
        "                                                                  #remember \"9\" != 9 as fist one is str and latter is int\n",
        "  guess +=1\n",
        "else:\n",
        "  print(\"You are out of tries, Better Luck next time\")\n"
      ],
      "execution_count": 16,
      "outputs": [
        {
          "output_type": "stream",
          "text": [
            "Please guess: 9\n",
            "You won!!!!\n"
          ],
          "name": "stdout"
        }
      ]
    },
    {
      "metadata": {
        "id": "Iw6w-AKZiAaM",
        "colab_type": "code",
        "colab": {
          "base_uri": "https://localhost:8080/",
          "height": 103
        },
        "outputId": "f236918c-5488-49da-aa84-0f8fbd8d0ec9"
      },
      "cell_type": "code",
      "source": [
        "patterns = [5,2,5,2,2]\n",
        "\n",
        "for pattern in patterns:\n",
        "  print('X' * pattern)\n"
      ],
      "execution_count": 18,
      "outputs": [
        {
          "output_type": "stream",
          "text": [
            "XXXXX\n",
            "XX\n",
            "XXXXX\n",
            "XX\n",
            "XX\n"
          ],
          "name": "stdout"
        }
      ]
    },
    {
      "metadata": {
        "id": "bBgAkw77kO11",
        "colab_type": "code",
        "colab": {
          "base_uri": "https://localhost:8080/",
          "height": 103
        },
        "outputId": "7cbfef85-0011-4fab-c4ab-de6dab89d165"
      },
      "cell_type": "code",
      "source": [
        "patterns = [5,2,5,2,2]\n",
        "\n",
        "for pattern in patterns:\n",
        "  output = ''\n",
        "  \n",
        "  for now_print in range(pattern):\n",
        "    output += 'X'\n",
        "  print (output)"
      ],
      "execution_count": 26,
      "outputs": [
        {
          "output_type": "stream",
          "text": [
            "XXXXX\n",
            "XX\n",
            "XXXXX\n",
            "XX\n",
            "XX\n"
          ],
          "name": "stdout"
        }
      ]
    },
    {
      "metadata": {
        "id": "uhzbsjUgnqJV",
        "colab_type": "code",
        "colab": {
          "base_uri": "https://localhost:8080/",
          "height": 51
        },
        "outputId": "474ab09a-5560-4cd0-bd07-e274cc5e96c9"
      },
      "cell_type": "code",
      "source": [
        "list_numbers = [4,56,23,24,67,-1,0,3]\n",
        "\n",
        "largest_number=0\n",
        "smallest_number=0\n",
        "for large in list_numbers:\n",
        "  if large > largest_number:\n",
        "    largest_number = large\n",
        "else:\n",
        "  print(f\"Largest number in your list is {largest_number}, Cool right!!!!\")\n",
        "  \n",
        "for small in list_numbers:                                                      # List initialization and traversing it.\n",
        "  if small < smallest_number:\n",
        "    smallest_number = small\n",
        "else:\n",
        "  print(f\"Smallest number in your list is {smallest_number}, Cool right!!!!\")"
      ],
      "execution_count": 31,
      "outputs": [
        {
          "output_type": "stream",
          "text": [
            "Largest number in your list is 67, Cool right!!!!\n",
            "Smallest number in your list is -1, Cool right!!!!\n"
          ],
          "name": "stdout"
        }
      ]
    },
    {
      "metadata": {
        "id": "GE99oejN1Qpj",
        "colab_type": "code",
        "colab": {
          "base_uri": "https://localhost:8080/",
          "height": 34
        },
        "outputId": "ef02168a-503e-4a39-f4a4-064463b9f31c"
      },
      "cell_type": "code",
      "source": [
        "list_numbers = [4,56,23,56,4,4,67,-1,0,3]      # taking out duplicates from a list\n",
        "uniques = []\n",
        "\n",
        "for element in list_numbers:\n",
        "  if element not in uniques:\n",
        "    uniques.append(element)\n",
        "print(uniques)\n",
        "  \n",
        "  \n",
        " "
      ],
      "execution_count": 5,
      "outputs": [
        {
          "output_type": "stream",
          "text": [
            "[4, 56, 23, 67, -1, 0, 3]\n"
          ],
          "name": "stdout"
        }
      ]
    },
    {
      "metadata": {
        "id": "RyWoqSxf30U7",
        "colab_type": "code",
        "colab": {
          "base_uri": "https://localhost:8080/",
          "height": 188
        },
        "outputId": "9fb76127-1c17-49fd-ab6d-e52fb16c60fd"
      },
      "cell_type": "code",
      "source": [
        "tuple = (4,56,23,56,4,4,67,-1,0,3)      # tuples cannot be modified, they can only be read.\n",
        "\n",
        "\n",
        "for element in list_numbers:                   # Timepass :P\n",
        "  print(list_numbers)"
      ],
      "execution_count": 6,
      "outputs": [
        {
          "output_type": "stream",
          "text": [
            "(4, 56, 23, 56, 4, 4, 67, -1, 0, 3)\n",
            "(4, 56, 23, 56, 4, 4, 67, -1, 0, 3)\n",
            "(4, 56, 23, 56, 4, 4, 67, -1, 0, 3)\n",
            "(4, 56, 23, 56, 4, 4, 67, -1, 0, 3)\n",
            "(4, 56, 23, 56, 4, 4, 67, -1, 0, 3)\n",
            "(4, 56, 23, 56, 4, 4, 67, -1, 0, 3)\n",
            "(4, 56, 23, 56, 4, 4, 67, -1, 0, 3)\n",
            "(4, 56, 23, 56, 4, 4, 67, -1, 0, 3)\n",
            "(4, 56, 23, 56, 4, 4, 67, -1, 0, 3)\n",
            "(4, 56, 23, 56, 4, 4, 67, -1, 0, 3)\n"
          ],
          "name": "stdout"
        }
      ]
    },
    {
      "metadata": {
        "colab_type": "code",
        "outputId": "9fb76127-1c17-49fd-ab6d-e52fb16c60fd",
        "id": "kqvmdpgn5NJb",
        "colab": {
          "base_uri": "https://localhost:8080/",
          "height": 188
        }
      },
      "cell_type": "code",
      "source": [
        "tuple = (4,56,23,56,4,4,67,-1,0,3)      # tuples cannot be modified, they can only be read.\n",
        "\n",
        "\n",
        "for element in list_numbers:                   # Timepass :P\n",
        "  print(list_numbers)"
      ],
      "execution_count": 0,
      "outputs": [
        {
          "output_type": "stream",
          "text": [
            "(4, 56, 23, 56, 4, 4, 67, -1, 0, 3)\n",
            "(4, 56, 23, 56, 4, 4, 67, -1, 0, 3)\n",
            "(4, 56, 23, 56, 4, 4, 67, -1, 0, 3)\n",
            "(4, 56, 23, 56, 4, 4, 67, -1, 0, 3)\n",
            "(4, 56, 23, 56, 4, 4, 67, -1, 0, 3)\n",
            "(4, 56, 23, 56, 4, 4, 67, -1, 0, 3)\n",
            "(4, 56, 23, 56, 4, 4, 67, -1, 0, 3)\n",
            "(4, 56, 23, 56, 4, 4, 67, -1, 0, 3)\n",
            "(4, 56, 23, 56, 4, 4, 67, -1, 0, 3)\n",
            "(4, 56, 23, 56, 4, 4, 67, -1, 0, 3)\n"
          ],
          "name": "stdout"
        }
      ]
    },
    {
      "metadata": {
        "colab_type": "code",
        "outputId": "1a47acca-78f0-4472-8ed4-3a8ca7da4564",
        "id": "c8pb0ry25OXe",
        "colab": {
          "base_uri": "https://localhost:8080/",
          "height": 188
        }
      },
      "cell_type": "code",
      "source": [
        "tuple = (4,56,23,56,4,4,67,-1,0,3)      # tuples cannot be modified, they can only be read.\n",
        "\n",
        "\n",
        "for element in tuple:                   # Timepass :P\n",
        "  print(tuple)"
      ],
      "execution_count": 7,
      "outputs": [
        {
          "output_type": "stream",
          "text": [
            "(4, 56, 23, 56, 4, 4, 67, -1, 0, 3)\n",
            "(4, 56, 23, 56, 4, 4, 67, -1, 0, 3)\n",
            "(4, 56, 23, 56, 4, 4, 67, -1, 0, 3)\n",
            "(4, 56, 23, 56, 4, 4, 67, -1, 0, 3)\n",
            "(4, 56, 23, 56, 4, 4, 67, -1, 0, 3)\n",
            "(4, 56, 23, 56, 4, 4, 67, -1, 0, 3)\n",
            "(4, 56, 23, 56, 4, 4, 67, -1, 0, 3)\n",
            "(4, 56, 23, 56, 4, 4, 67, -1, 0, 3)\n",
            "(4, 56, 23, 56, 4, 4, 67, -1, 0, 3)\n",
            "(4, 56, 23, 56, 4, 4, 67, -1, 0, 3)\n"
          ],
          "name": "stdout"
        }
      ]
    },
    {
      "metadata": {
        "id": "99AHkcYK5UZo",
        "colab_type": "code",
        "colab": {
          "base_uri": "https://localhost:8080/",
          "height": 34
        },
        "outputId": "896f800b-e5bf-4065-ff73-ecdc86070b02"
      },
      "cell_type": "code",
      "source": [
        "list = [1,2,3]    # unpacking in list\n",
        "x,y,z = list\n",
        "\n",
        "print(f\"({x},{y},{z})\")"
      ],
      "execution_count": 8,
      "outputs": [
        {
          "output_type": "stream",
          "text": [
            "(1,2,3)\n"
          ],
          "name": "stdout"
        }
      ]
    },
    {
      "metadata": {
        "id": "sg6J6hjp4rpn",
        "colab_type": "code",
        "colab": {
          "base_uri": "https://localhost:8080/",
          "height": 34
        },
        "outputId": "de0bc698-9dd2-41d0-ca59-945b6bb6e6ac"
      },
      "cell_type": "code",
      "source": [
        "tuple = (1,2,3)    # unpacking in tuple\n",
        "x,y,z = tuple\n",
        "\n",
        "print(f\"({x},{y},{z})\")"
      ],
      "execution_count": 1,
      "outputs": [
        {
          "output_type": "stream",
          "text": [
            "(1,2,3)\n"
          ],
          "name": "stdout"
        }
      ]
    },
    {
      "metadata": {
        "id": "VFIQsPMB5-Gd",
        "colab_type": "code",
        "colab": {
          "base_uri": "https://localhost:8080/",
          "height": 51
        },
        "outputId": "9e8ff6eb-c094-4ceb-f29b-60f0ceea6ffc"
      },
      "cell_type": "code",
      "source": [
        "num_dictionary = {\"1\":\"One\",\n",
        "                  \"2\":\"Two\",\n",
        "                  \"3\":\"Three\"\n",
        "                 }\n",
        "user_input = input(\"Enter you number from 1 to 3: \")\n",
        "output = \"\"\n",
        "for value in user_input:\n",
        "  output += num_dictionary.get(value, \"!\") + \" \"\n",
        "  \n",
        "print(f\"Your converted output is {output}\")\n",
        "\n",
        "\n",
        "  \n",
        "  "
      ],
      "execution_count": 2,
      "outputs": [
        {
          "output_type": "stream",
          "text": [
            "Enter you number from 1 to 3: 1234\n",
            "Your converted output is One Two Three ! \n"
          ],
          "name": "stdout"
        }
      ]
    },
    {
      "metadata": {
        "id": "m7rNO79-UfSi",
        "colab_type": "code",
        "colab": {
          "base_uri": "https://localhost:8080/",
          "height": 51
        },
        "outputId": "46c86ded-2d4c-4b51-bf06-82223708bd79"
      },
      "cell_type": "code",
      "source": [
        "# Try except (Exceptional handling)\n",
        "\n",
        "try:\n",
        "  integer_value = int(input(\"Enter an interger value: \"))\n",
        "  integer_value = 2 / integer_value\n",
        "  print(f\"Modified Interger value: {integer_value}\")\n",
        "except ValueError:\n",
        "  print(\"ER101: Please enter an interger value\")\n",
        "except ZeroDivisionError:\n",
        "  print(\"ER102: Sorry haven't learnt to divide by Zero :P\")\n"
      ],
      "execution_count": 12,
      "outputs": [
        {
          "output_type": "stream",
          "text": [
            "Enter an interger value: 78\n",
            "Modified Interger value: 0.02564102564102564\n"
          ],
          "name": "stdout"
        }
      ]
    },
    {
      "metadata": {
        "id": "WpFgki2XYIfw",
        "colab_type": "code",
        "colab": {
          "base_uri": "https://localhost:8080/",
          "height": 34
        },
        "outputId": "ce8698e4-31b7-410a-e3d9-6dba19181eae"
      },
      "cell_type": "code",
      "source": [
        "#Positional Arguments\n",
        "def print_name(first_name, last_name):                               #Values that we catch the arguments with and \n",
        "  print(f\"Hi {first_name} {last_name}, How are you doing!!!!\")       #store them are called parameters\n",
        "  \n",
        "\n",
        "print_name(\"Harsh\", \"Tiwari\")   # Values we pass in the function are called Argument.\n",
        "\n"
      ],
      "execution_count": 2,
      "outputs": [
        {
          "output_type": "stream",
          "text": [
            "Hi Harsh Tiwari, How are you doing!!!!\n"
          ],
          "name": "stdout"
        }
      ]
    },
    {
      "metadata": {
        "id": "lLRZdmOcxYJ9",
        "colab_type": "code",
        "colab": {
          "base_uri": "https://localhost:8080/",
          "height": 34
        },
        "outputId": "0daeeafd-0fb6-45ef-d2c9-472f02e00e1a"
      },
      "cell_type": "code",
      "source": [
        "#Keyword Arguments\n",
        "def print_name(first_name, last_name):\n",
        "  print(f\"Hi {first_name} {last_name}, How are you doing!!!!\")\n",
        "  \n",
        "\n",
        "print_name(last_name=\"Tiwari\", first_name=\"Tiwari\")    # Used to make code more readable."
      ],
      "execution_count": 4,
      "outputs": [
        {
          "output_type": "stream",
          "text": [
            "Hi Tiwari Tiwari, How are you doing!!!!\n"
          ],
          "name": "stdout"
        }
      ]
    },
    {
      "metadata": {
        "id": "nl_G7kMDyT-M",
        "colab_type": "code",
        "colab": {
          "base_uri": "https://localhost:8080/",
          "height": 34
        },
        "outputId": "3cade9fc-f7b0-4217-f24e-2862b6e72916"
      },
      "cell_type": "code",
      "source": [
        "#Class\n",
        "\n",
        "class Person:\n",
        "  \n",
        "  def __init__(self, name):\n",
        "    self.name=name\n",
        "  \n",
        "  def talk(self):\n",
        "    print(f\"Hi, my name is {self.name}; LOL!!!!\")\n",
        "    \n",
        "    \n",
        "person_object = Person(\"Harsh Tiwari\")\n",
        "person_object.talk()\n"
      ],
      "execution_count": 13,
      "outputs": [
        {
          "output_type": "stream",
          "text": [
            "Hi, my name is Harsh Tiwari; LOL!!!!\n"
          ],
          "name": "stdout"
        }
      ]
    },
    {
      "metadata": {
        "id": "HfETBoh-3KT2",
        "colab_type": "code",
        "colab": {
          "base_uri": "https://localhost:8080/",
          "height": 34
        },
        "outputId": "b7b71e4b-568a-4104-c3a1-9899315737b0"
      },
      "cell_type": "code",
      "source": [
        "#Inheritence\n",
        "\n",
        "class Mammal:\n",
        "  def walk(self):\n",
        "    print(\"Walk please !!!!\")\n",
        "    \n",
        "    \n",
        "class Dog(Mammal):\n",
        "  def walk_dog(self):\n",
        "    print(\"Walk please dog!!!!\")                     # Use this for empty class\n",
        "\n",
        "\n",
        "class Cat(Dog):\n",
        "  def cute(self):\n",
        "    print(\"Your cute cat\")\n",
        "    \n",
        "    \n",
        "cat1 = Cat()\n",
        "cat1.walk()"
      ],
      "execution_count": 18,
      "outputs": [
        {
          "output_type": "stream",
          "text": [
            "Walk please !!!!\n"
          ],
          "name": "stdout"
        }
      ]
    },
    {
      "metadata": {
        "id": "Aee5OkKO6xBg",
        "colab_type": "code",
        "colab": {
          "base_uri": "https://localhost:8080/",
          "height": 34
        },
        "outputId": "1dfb2719-169d-4d8e-8e02-6a8162b58128"
      },
      "cell_type": "code",
      "source": [
        "import random\n",
        "class Dice:\n",
        "  def roll(self):\n",
        "    choose_from = range(10)\n",
        "    x,y=random.choice(choose_from),random.choice(choose_from)\n",
        "    return (x,y)\n",
        "    \n",
        "    \n",
        "    \n",
        "dice_object = Dice()\n",
        "print(dice_object.roll())\n",
        "\n"
      ],
      "execution_count": 58,
      "outputs": [
        {
          "output_type": "stream",
          "text": [
            "(2, 1)\n"
          ],
          "name": "stdout"
        }
      ]
    },
    {
      "metadata": {
        "id": "JyEXBVIzIZ4r",
        "colab_type": "code",
        "colab": {
          "base_uri": "https://localhost:8080/",
          "height": 34
        },
        "outputId": "4fc55011-ed1e-4e13-9d22-8b1b8354f676"
      },
      "cell_type": "code",
      "source": [
        "from pathlib import Path\n",
        "path = Path(\"/abhyaas_python\")\n",
        "\n",
        "print(path.mkdir())\n",
        "\n",
        "\n",
        "\n",
        "\n"
      ],
      "execution_count": 68,
      "outputs": [
        {
          "output_type": "stream",
          "text": [
            "None\n"
          ],
          "name": "stdout"
        }
      ]
    },
    {
      "metadata": {
        "id": "kg6758mquuLd",
        "colab_type": "text"
      },
      "cell_type": "markdown",
      "source": [
        ""
      ]
    }
  ]
}